{
  "nbformat": 4,
  "nbformat_minor": 0,
  "metadata": {
    "accelerator": "TPU",
    "colab": {
      "name": "Tt_lvl_company_description.ipynb",
      "provenance": [],
      "collapsed_sections": [
        "ZueMWfUfJpxh",
        "qD_SSAB0KILz",
        "cTHiKOtkdlj_",
        "Ar3OkCxYd3jy",
        "Hny2fIC6dSMb",
        "dfFSmbFlsS_s",
        "tOe2Y-iGeA5U",
        "Z9oxoQ26CVyI"
      ],
      "include_colab_link": true
    },
    "kernelspec": {
      "display_name": "Python 3",
      "language": "python",
      "name": "python3"
    },
    "language_info": {
      "codemirror_mode": {
        "name": "ipython",
        "version": 3
      },
      "file_extension": ".py",
      "mimetype": "text/x-python",
      "name": "python",
      "nbconvert_exporter": "python",
      "pygments_lexer": "ipython3",
      "version": "3.7.4"
    }
  },
  "cells": [
    {
      "cell_type": "markdown",
      "metadata": {
        "id": "view-in-github",
        "colab_type": "text"
      },
      "source": [
        "<a href=\"https://colab.research.google.com/github/thiru2024/GNN-prediction/blob/main/Tt_lvl_company_description.ipynb\" target=\"_parent\"><img src=\"https://colab.research.google.com/assets/colab-badge.svg\" alt=\"Open In Colab\"/></a>"
      ]
    },
    {
      "cell_type": "markdown",
      "metadata": {
        "id": "nm6F1QpE4OmG"
      },
      "source": [
        "##importing Libraries"
      ]
    },
    {
      "cell_type": "code",
      "metadata": {
        "id": "iUM75wdGLmdY"
      },
      "source": [
        "import torch.nn.functional as F\n",
        "from torch.utils.data import Dataset, DataLoader, random_split\n",
        "import numpy as np\n",
        "from sklearn.metrics import f1_score, roc_auc_score\n",
        "from time import time\n",
        "import pandas as pd\n",
        "import torch\n",
        "import torch.nn as nn\n"
      ],
      "execution_count": 5,
      "outputs": []
    },
    {
      "cell_type": "code",
      "metadata": {
        "id": "MSJWthfdMDZ1",
        "colab": {
          "base_uri": "https://localhost:8080/"
        },
        "outputId": "9169c37a-8103-4176-ed26-2cfc6975c3ca"
      },
      "source": [
        "from google.colab import drive\r\n",
        "drive.mount('/content/gdrive')"
      ],
      "execution_count": 6,
      "outputs": [
        {
          "output_type": "stream",
          "text": [
            "Drive already mounted at /content/gdrive; to attempt to forcibly remount, call drive.mount(\"/content/gdrive\", force_remount=True).\n"
          ],
          "name": "stdout"
        }
      ]
    },
    {
      "cell_type": "markdown",
      "metadata": {
        "id": "CVqp5Gxxmu1M"
      },
      "source": [
        "# Exploratory Data Analysis"
      ]
    },
    {
      "cell_type": "markdown",
      "metadata": {
        "id": "ZueMWfUfJpxh"
      },
      "source": [
        "# train data"
      ]
    },
    {
      "cell_type": "code",
      "metadata": {
        "id": "8F78Dmcxl2G6",
        "colab": {
          "base_uri": "https://localhost:8080/",
          "height": 229
        },
        "outputId": "62955010-6815-477f-f14d-95ecc576d6dc"
      },
      "source": [
        "from google.colab import drive\n",
        "drive.mount('/content/gdrive')\n",
        "\n",
        "data = pd.read_excel('/content/gdrive/MyDrive/intern_tasks/Text-Classification-using-GNN-main/Training_Data(1).xlsx')\n",
        "print(data.shape)\n",
        "data.head()"
      ],
      "execution_count": 7,
      "outputs": [
        {
          "output_type": "stream",
          "text": [
            "Drive already mounted at /content/gdrive; to attempt to forcibly remount, call drive.mount(\"/content/gdrive\", force_remount=True).\n",
            "(6045, 3)\n"
          ],
          "name": "stdout"
        },
        {
          "output_type": "execute_result",
          "data": {
            "text/html": [
              "<div>\n",
              "<style scoped>\n",
              "    .dataframe tbody tr th:only-of-type {\n",
              "        vertical-align: middle;\n",
              "    }\n",
              "\n",
              "    .dataframe tbody tr th {\n",
              "        vertical-align: top;\n",
              "    }\n",
              "\n",
              "    .dataframe thead th {\n",
              "        text-align: right;\n",
              "    }\n",
              "</style>\n",
              "<table border=\"1\" class=\"dataframe\">\n",
              "  <thead>\n",
              "    <tr style=\"text-align: right;\">\n",
              "      <th></th>\n",
              "      <th>Company Name</th>\n",
              "      <th>Business Description</th>\n",
              "      <th>Industry Classification Tag</th>\n",
              "    </tr>\n",
              "  </thead>\n",
              "  <tbody>\n",
              "    <tr>\n",
              "      <th>0</th>\n",
              "      <td>ADSOUTH PARTNERS, INC.</td>\n",
              "      <td>Adsouth Partners, Inc. provides advertising ag...</td>\n",
              "      <td>Advertising</td>\n",
              "    </tr>\n",
              "    <tr>\n",
              "      <th>1</th>\n",
              "      <td>Artec Global Media, Inc.</td>\n",
              "      <td>Artec Global Media, Inc., formerly Artec Consu...</td>\n",
              "      <td>Advertising</td>\n",
              "    </tr>\n",
              "    <tr>\n",
              "      <th>2</th>\n",
              "      <td>Betawave Corp.</td>\n",
              "      <td>Betawave Corporation provides online marketing...</td>\n",
              "      <td>Advertising</td>\n",
              "    </tr>\n",
              "    <tr>\n",
              "      <th>3</th>\n",
              "      <td>BOSTON OMAHA Corp</td>\n",
              "      <td>Boston Omaha Corporation is engaged in the bus...</td>\n",
              "      <td>Advertising</td>\n",
              "    </tr>\n",
              "    <tr>\n",
              "      <th>4</th>\n",
              "      <td>Bright Mountain Media Inc</td>\n",
              "      <td>Bright Mountain Media, Inc. is a digital media...</td>\n",
              "      <td>Advertising</td>\n",
              "    </tr>\n",
              "  </tbody>\n",
              "</table>\n",
              "</div>"
            ],
            "text/plain": [
              "                Company Name  ... Industry Classification Tag\n",
              "0     ADSOUTH PARTNERS, INC.  ...                 Advertising\n",
              "1   Artec Global Media, Inc.  ...                 Advertising\n",
              "2             Betawave Corp.  ...                 Advertising\n",
              "3          BOSTON OMAHA Corp  ...                 Advertising\n",
              "4  Bright Mountain Media Inc  ...                 Advertising\n",
              "\n",
              "[5 rows x 3 columns]"
            ]
          },
          "metadata": {
            "tags": []
          },
          "execution_count": 7
        }
      ]
    },
    {
      "cell_type": "code",
      "metadata": {
        "id": "4hYxrKQ6mBIq",
        "colab": {
          "base_uri": "https://localhost:8080/"
        },
        "outputId": "e578d705-e616-49f1-9e79-3c58728bb4be"
      },
      "source": [
        "data.isnull().sum()"
      ],
      "execution_count": 8,
      "outputs": [
        {
          "output_type": "execute_result",
          "data": {
            "text/plain": [
              "Company Name                    0\n",
              "Business Description           23\n",
              "Industry Classification Tag     0\n",
              "dtype: int64"
            ]
          },
          "metadata": {
            "tags": []
          },
          "execution_count": 8
        }
      ]
    },
    {
      "cell_type": "code",
      "metadata": {
        "id": "l0NyAAjCmLlG",
        "colab": {
          "base_uri": "https://localhost:8080/",
          "height": 728
        },
        "outputId": "e61e7359-5b74-4b62-8d88-d82aff3ef62d"
      },
      "source": [
        "data[data[\"Business Description\"].isnull() == True]"
      ],
      "execution_count": 9,
      "outputs": [
        {
          "output_type": "execute_result",
          "data": {
            "text/html": [
              "<div>\n",
              "<style scoped>\n",
              "    .dataframe tbody tr th:only-of-type {\n",
              "        vertical-align: middle;\n",
              "    }\n",
              "\n",
              "    .dataframe tbody tr th {\n",
              "        vertical-align: top;\n",
              "    }\n",
              "\n",
              "    .dataframe thead th {\n",
              "        text-align: right;\n",
              "    }\n",
              "</style>\n",
              "<table border=\"1\" class=\"dataframe\">\n",
              "  <thead>\n",
              "    <tr style=\"text-align: right;\">\n",
              "      <th></th>\n",
              "      <th>Company Name</th>\n",
              "      <th>Business Description</th>\n",
              "      <th>Industry Classification Tag</th>\n",
              "    </tr>\n",
              "  </thead>\n",
              "  <tbody>\n",
              "    <tr>\n",
              "      <th>630</th>\n",
              "      <td>Heritage Global Inc.</td>\n",
              "      <td>NaN</td>\n",
              "      <td>Asset Management &amp; Custody Banks</td>\n",
              "    </tr>\n",
              "    <tr>\n",
              "      <th>1254</th>\n",
              "      <td>Contagious Gaming Inc.</td>\n",
              "      <td>NaN</td>\n",
              "      <td>Casinos &amp; Gaming</td>\n",
              "    </tr>\n",
              "    <tr>\n",
              "      <th>2243</th>\n",
              "      <td>Cardinal Resources Ltd.</td>\n",
              "      <td>NaN</td>\n",
              "      <td>Gold</td>\n",
              "    </tr>\n",
              "    <tr>\n",
              "      <th>2247</th>\n",
              "      <td>Carlin Gold Corporation</td>\n",
              "      <td>NaN</td>\n",
              "      <td>Gold</td>\n",
              "    </tr>\n",
              "    <tr>\n",
              "      <th>2256</th>\n",
              "      <td>Condor Gold plc</td>\n",
              "      <td>NaN</td>\n",
              "      <td>Gold</td>\n",
              "    </tr>\n",
              "    <tr>\n",
              "      <th>2288</th>\n",
              "      <td>Fortune Bay Corp.</td>\n",
              "      <td>NaN</td>\n",
              "      <td>Gold</td>\n",
              "    </tr>\n",
              "    <tr>\n",
              "      <th>2312</th>\n",
              "      <td>Gold Reserve Inc. Class A</td>\n",
              "      <td>NaN</td>\n",
              "      <td>Gold</td>\n",
              "    </tr>\n",
              "    <tr>\n",
              "      <th>2327</th>\n",
              "      <td>Hansa Resources Limited</td>\n",
              "      <td>NaN</td>\n",
              "      <td>Gold</td>\n",
              "    </tr>\n",
              "    <tr>\n",
              "      <th>2384</th>\n",
              "      <td>McEwen Mining Inc.</td>\n",
              "      <td>NaN</td>\n",
              "      <td>Gold</td>\n",
              "    </tr>\n",
              "    <tr>\n",
              "      <th>2423</th>\n",
              "      <td>Patriot Gold Corp.</td>\n",
              "      <td>NaN</td>\n",
              "      <td>Gold</td>\n",
              "    </tr>\n",
              "    <tr>\n",
              "      <th>2428</th>\n",
              "      <td>Perseus Mining Limited</td>\n",
              "      <td>NaN</td>\n",
              "      <td>Gold</td>\n",
              "    </tr>\n",
              "    <tr>\n",
              "      <th>2434</th>\n",
              "      <td>Quadro Resources Ltd.</td>\n",
              "      <td>NaN</td>\n",
              "      <td>Gold</td>\n",
              "    </tr>\n",
              "    <tr>\n",
              "      <th>2459</th>\n",
              "      <td>Serabi Gold PLC</td>\n",
              "      <td>NaN</td>\n",
              "      <td>Gold</td>\n",
              "    </tr>\n",
              "    <tr>\n",
              "      <th>2469</th>\n",
              "      <td>SolGold Plc</td>\n",
              "      <td>NaN</td>\n",
              "      <td>Gold</td>\n",
              "    </tr>\n",
              "    <tr>\n",
              "      <th>2471</th>\n",
              "      <td>Stellar AfricaGold, Inc.</td>\n",
              "      <td>NaN</td>\n",
              "      <td>Gold</td>\n",
              "    </tr>\n",
              "    <tr>\n",
              "      <th>2483</th>\n",
              "      <td>Thunder Mountain Gold, Inc.</td>\n",
              "      <td>NaN</td>\n",
              "      <td>Gold</td>\n",
              "    </tr>\n",
              "    <tr>\n",
              "      <th>2504</th>\n",
              "      <td>Vista Gold Corp.</td>\n",
              "      <td>NaN</td>\n",
              "      <td>Gold</td>\n",
              "    </tr>\n",
              "    <tr>\n",
              "      <th>2517</th>\n",
              "      <td>Waseco Resources Inc.</td>\n",
              "      <td>NaN</td>\n",
              "      <td>Gold</td>\n",
              "    </tr>\n",
              "    <tr>\n",
              "      <th>3504</th>\n",
              "      <td>Canaccord Genuity Group Inc</td>\n",
              "      <td>NaN</td>\n",
              "      <td>Investment Banking &amp; Brokerage</td>\n",
              "    </tr>\n",
              "    <tr>\n",
              "      <th>3505</th>\n",
              "      <td>Canaccord Genuity Group Inc</td>\n",
              "      <td>NaN</td>\n",
              "      <td>Investment Banking &amp; Brokerage</td>\n",
              "    </tr>\n",
              "    <tr>\n",
              "      <th>3512</th>\n",
              "      <td>GMP Capital Inc.</td>\n",
              "      <td>NaN</td>\n",
              "      <td>Investment Banking &amp; Brokerage</td>\n",
              "    </tr>\n",
              "    <tr>\n",
              "      <th>4635</th>\n",
              "      <td>Brookfield Property Partners LP</td>\n",
              "      <td>NaN</td>\n",
              "      <td>Real Estate Operating Companies</td>\n",
              "    </tr>\n",
              "    <tr>\n",
              "      <th>5631</th>\n",
              "      <td>Champion Iron Ltd.</td>\n",
              "      <td>NaN</td>\n",
              "      <td>Steel</td>\n",
              "    </tr>\n",
              "  </tbody>\n",
              "</table>\n",
              "</div>"
            ],
            "text/plain": [
              "                         Company Name  ...       Industry Classification Tag\n",
              "630              Heritage Global Inc.  ...  Asset Management & Custody Banks\n",
              "1254           Contagious Gaming Inc.  ...                  Casinos & Gaming\n",
              "2243          Cardinal Resources Ltd.  ...                              Gold\n",
              "2247          Carlin Gold Corporation  ...                              Gold\n",
              "2256                  Condor Gold plc  ...                              Gold\n",
              "2288                Fortune Bay Corp.  ...                              Gold\n",
              "2312        Gold Reserve Inc. Class A  ...                              Gold\n",
              "2327          Hansa Resources Limited  ...                              Gold\n",
              "2384               McEwen Mining Inc.  ...                              Gold\n",
              "2423               Patriot Gold Corp.  ...                              Gold\n",
              "2428           Perseus Mining Limited  ...                              Gold\n",
              "2434            Quadro Resources Ltd.  ...                              Gold\n",
              "2459                  Serabi Gold PLC  ...                              Gold\n",
              "2469                      SolGold Plc  ...                              Gold\n",
              "2471         Stellar AfricaGold, Inc.  ...                              Gold\n",
              "2483      Thunder Mountain Gold, Inc.  ...                              Gold\n",
              "2504                 Vista Gold Corp.  ...                              Gold\n",
              "2517            Waseco Resources Inc.  ...                              Gold\n",
              "3504      Canaccord Genuity Group Inc  ...    Investment Banking & Brokerage\n",
              "3505      Canaccord Genuity Group Inc  ...    Investment Banking & Brokerage\n",
              "3512                 GMP Capital Inc.  ...    Investment Banking & Brokerage\n",
              "4635  Brookfield Property Partners LP  ...   Real Estate Operating Companies\n",
              "5631               Champion Iron Ltd.  ...                             Steel\n",
              "\n",
              "[23 rows x 3 columns]"
            ]
          },
          "metadata": {
            "tags": []
          },
          "execution_count": 9
        }
      ]
    },
    {
      "cell_type": "code",
      "metadata": {
        "id": "WISofsilmPmG",
        "colab": {
          "base_uri": "https://localhost:8080/"
        },
        "outputId": "7f06327b-6092-4467-bd69-e3570372df85"
      },
      "source": [
        "data['Business Description'] = np.where(data[\"Business Description\"].isnull() == True,data[\"Company Name\"],data[\"Business Description\"])\n",
        "data.isnull().sum()"
      ],
      "execution_count": 10,
      "outputs": [
        {
          "output_type": "execute_result",
          "data": {
            "text/plain": [
              "Company Name                   0\n",
              "Business Description           0\n",
              "Industry Classification Tag    0\n",
              "dtype: int64"
            ]
          },
          "metadata": {
            "tags": []
          },
          "execution_count": 10
        }
      ]
    },
    {
      "cell_type": "code",
      "metadata": {
        "id": "Q1Ir8DUPmSW2"
      },
      "source": [
        "data.drop_duplicates(keep=False,inplace=True)"
      ],
      "execution_count": 11,
      "outputs": []
    },
    {
      "cell_type": "code",
      "metadata": {
        "id": "JCEp_5femUhm",
        "colab": {
          "base_uri": "https://localhost:8080/",
          "height": 334
        },
        "outputId": "1f0e3afc-b825-4031-86b6-3f91fb602561"
      },
      "source": [
        "data.info()\n",
        "data.describe()"
      ],
      "execution_count": 12,
      "outputs": [
        {
          "output_type": "stream",
          "text": [
            "<class 'pandas.core.frame.DataFrame'>\n",
            "Int64Index: 5943 entries, 0 to 6044\n",
            "Data columns (total 3 columns):\n",
            " #   Column                       Non-Null Count  Dtype \n",
            "---  ------                       --------------  ----- \n",
            " 0   Company Name                 5943 non-null   object\n",
            " 1   Business Description         5943 non-null   object\n",
            " 2   Industry Classification Tag  5943 non-null   object\n",
            "dtypes: object(3)\n",
            "memory usage: 185.7+ KB\n"
          ],
          "name": "stdout"
        },
        {
          "output_type": "execute_result",
          "data": {
            "text/html": [
              "<div>\n",
              "<style scoped>\n",
              "    .dataframe tbody tr th:only-of-type {\n",
              "        vertical-align: middle;\n",
              "    }\n",
              "\n",
              "    .dataframe tbody tr th {\n",
              "        vertical-align: top;\n",
              "    }\n",
              "\n",
              "    .dataframe thead th {\n",
              "        text-align: right;\n",
              "    }\n",
              "</style>\n",
              "<table border=\"1\" class=\"dataframe\">\n",
              "  <thead>\n",
              "    <tr style=\"text-align: right;\">\n",
              "      <th></th>\n",
              "      <th>Company Name</th>\n",
              "      <th>Business Description</th>\n",
              "      <th>Industry Classification Tag</th>\n",
              "    </tr>\n",
              "  </thead>\n",
              "  <tbody>\n",
              "    <tr>\n",
              "      <th>count</th>\n",
              "      <td>5943</td>\n",
              "      <td>5943</td>\n",
              "      <td>5943</td>\n",
              "    </tr>\n",
              "    <tr>\n",
              "      <th>unique</th>\n",
              "      <td>5941</td>\n",
              "      <td>5938</td>\n",
              "      <td>62</td>\n",
              "    </tr>\n",
              "    <tr>\n",
              "      <th>top</th>\n",
              "      <td>Heritage Global Inc.</td>\n",
              "      <td>Timberline Resources Corporation is engaged in...</td>\n",
              "      <td>Regional Banks</td>\n",
              "    </tr>\n",
              "    <tr>\n",
              "      <th>freq</th>\n",
              "      <td>2</td>\n",
              "      <td>2</td>\n",
              "      <td>569</td>\n",
              "    </tr>\n",
              "  </tbody>\n",
              "</table>\n",
              "</div>"
            ],
            "text/plain": [
              "                Company Name  ... Industry Classification Tag\n",
              "count                   5943  ...                        5943\n",
              "unique                  5941  ...                          62\n",
              "top     Heritage Global Inc.  ...              Regional Banks\n",
              "freq                       2  ...                         569\n",
              "\n",
              "[4 rows x 3 columns]"
            ]
          },
          "metadata": {
            "tags": []
          },
          "execution_count": 12
        }
      ]
    },
    {
      "cell_type": "code",
      "metadata": {
        "id": "UImXIhpEmWkf",
        "colab": {
          "base_uri": "https://localhost:8080/"
        },
        "outputId": "4d02af9c-71aa-454c-fb15-fd253b26391e"
      },
      "source": [
        "data[\"Business Description\"].str.len().describe()"
      ],
      "execution_count": 13,
      "outputs": [
        {
          "output_type": "execute_result",
          "data": {
            "text/plain": [
              "count    5943.000000\n",
              "mean      850.619552\n",
              "std       205.122038\n",
              "min        11.000000\n",
              "25%       797.000000\n",
              "50%       944.000000\n",
              "75%       986.000000\n",
              "max      1325.000000\n",
              "Name: Business Description, dtype: float64"
            ]
          },
          "metadata": {
            "tags": []
          },
          "execution_count": 13
        }
      ]
    },
    {
      "cell_type": "code",
      "metadata": {
        "id": "sQbR_kIgmYtH",
        "colab": {
          "base_uri": "https://localhost:8080/",
          "height": 282
        },
        "outputId": "820bd9df-8aeb-4d03-dc39-5ccdb9234419"
      },
      "source": [
        "data[\"Business Description\"].str.len().plot()"
      ],
      "execution_count": 14,
      "outputs": [
        {
          "output_type": "execute_result",
          "data": {
            "text/plain": [
              "<matplotlib.axes._subplots.AxesSubplot at 0x7f86a4c37290>"
            ]
          },
          "metadata": {
            "tags": []
          },
          "execution_count": 14
        },
        {
          "output_type": "display_data",
          "data": {
            "image/png": "[encoded data removed]",
            "text/plain": [
              "<Figure size 432x288 with 1 Axes>"
            ]
          },
          "metadata": {
            "tags": [],
            "needs_background": "light"
          }
        }
      ]
    },
    {
      "cell_type": "code",
      "metadata": {
        "id": "nOyFwQq4mbwW",
        "colab": {
          "base_uri": "https://localhost:8080/",
          "height": 282
        },
        "outputId": "5143a19c-84cc-472a-91ac-c9f37b9bdb42"
      },
      "source": [
        "data[\"Business Description\"].str.len().plot.box()"
      ],
      "execution_count": 15,
      "outputs": [
        {
          "output_type": "execute_result",
          "data": {
            "text/plain": [
              "<matplotlib.axes._subplots.AxesSubplot at 0x7f86a4e4ac90>"
            ]
          },
          "metadata": {
            "tags": []
          },
          "execution_count": 15
        },
        {
          "output_type": "display_data",
          "data": {
            "image/png": "[encoded data removed]",
            "text/plain": [
              "<Figure size 432x288 with 1 Axes>"
            ]
          },
          "metadata": {
            "tags": [],
            "needs_background": "light"
          }
        }
      ]
    },
    {
      "cell_type": "code",
      "metadata": {
        "id": "cPu7qE9Fmiy9"
      },
      "source": [
        "classes = {i:typ for i,typ in enumerate(data.iloc[:,2].unique())}"
      ],
      "execution_count": 16,
      "outputs": []
    },
    {
      "cell_type": "code",
      "metadata": {
        "id": "7wV0ynS7mejR"
      },
      "source": [
        "data.iloc[:,1] = data.iloc[:,1].str.lower()\n",
        "data.iloc[:,2] = data.iloc[:,2].str.lower()\n",
        "data.columns = data.columns.str.strip()\n",
        "data.columns = data.columns.str.lower()"
      ],
      "execution_count": 17,
      "outputs": []
    },
    {
      "cell_type": "code",
      "metadata": {
        "id": "3SWTAIPFmhCG"
      },
      "source": [
        "data.drop('company name',1,inplace=True)"
      ],
      "execution_count": 18,
      "outputs": []
    },
    {
      "cell_type": "code",
      "metadata": {
        "id": "feyLI4rlupoz",
        "colab": {
          "base_uri": "https://localhost:8080/",
          "height": 195
        },
        "outputId": "d9bd2972-6924-43df-a9e0-f9b23b9914fd"
      },
      "source": [
        "dum = data['industry classification tag']\n",
        "data.drop(columns='industry classification tag',inplace=True)\n",
        "data = pd.concat([dum,data],axis=1)\n",
        "data.head()"
      ],
      "execution_count": 19,
      "outputs": [
        {
          "output_type": "execute_result",
          "data": {
            "text/html": [
              "<div>\n",
              "<style scoped>\n",
              "    .dataframe tbody tr th:only-of-type {\n",
              "        vertical-align: middle;\n",
              "    }\n",
              "\n",
              "    .dataframe tbody tr th {\n",
              "        vertical-align: top;\n",
              "    }\n",
              "\n",
              "    .dataframe thead th {\n",
              "        text-align: right;\n",
              "    }\n",
              "</style>\n",
              "<table border=\"1\" class=\"dataframe\">\n",
              "  <thead>\n",
              "    <tr style=\"text-align: right;\">\n",
              "      <th></th>\n",
              "      <th>industry classification tag</th>\n",
              "      <th>business description</th>\n",
              "    </tr>\n",
              "  </thead>\n",
              "  <tbody>\n",
              "    <tr>\n",
              "      <th>0</th>\n",
              "      <td>advertising</td>\n",
              "      <td>adsouth partners, inc. provides advertising ag...</td>\n",
              "    </tr>\n",
              "    <tr>\n",
              "      <th>1</th>\n",
              "      <td>advertising</td>\n",
              "      <td>artec global media, inc., formerly artec consu...</td>\n",
              "    </tr>\n",
              "    <tr>\n",
              "      <th>2</th>\n",
              "      <td>advertising</td>\n",
              "      <td>betawave corporation provides online marketing...</td>\n",
              "    </tr>\n",
              "    <tr>\n",
              "      <th>3</th>\n",
              "      <td>advertising</td>\n",
              "      <td>boston omaha corporation is engaged in the bus...</td>\n",
              "    </tr>\n",
              "    <tr>\n",
              "      <th>4</th>\n",
              "      <td>advertising</td>\n",
              "      <td>bright mountain media, inc. is a digital media...</td>\n",
              "    </tr>\n",
              "  </tbody>\n",
              "</table>\n",
              "</div>"
            ],
            "text/plain": [
              "  industry classification tag                               business description\n",
              "0                 advertising  adsouth partners, inc. provides advertising ag...\n",
              "1                 advertising  artec global media, inc., formerly artec consu...\n",
              "2                 advertising  betawave corporation provides online marketing...\n",
              "3                 advertising  boston omaha corporation is engaged in the bus...\n",
              "4                 advertising  bright mountain media, inc. is a digital media..."
            ]
          },
          "metadata": {
            "tags": []
          },
          "execution_count": 19
        }
      ]
    },
    {
      "cell_type": "code",
      "metadata": {
        "id": "d1fowegIIZ99",
        "colab": {
          "base_uri": "https://localhost:8080/",
          "height": 179
        },
        "outputId": "dcd410ce-0e60-4588-ead1-9d964dded36c"
      },
      "source": [
        "data.columns = ['','']\n",
        "data.head()"
      ],
      "execution_count": 20,
      "outputs": [
        {
          "output_type": "execute_result",
          "data": {
            "text/html": [
              "<div>\n",
              "<style scoped>\n",
              "    .dataframe tbody tr th:only-of-type {\n",
              "        vertical-align: middle;\n",
              "    }\n",
              "\n",
              "    .dataframe tbody tr th {\n",
              "        vertical-align: top;\n",
              "    }\n",
              "\n",
              "    .dataframe thead th {\n",
              "        text-align: right;\n",
              "    }\n",
              "</style>\n",
              "<table border=\"1\" class=\"dataframe\">\n",
              "  <thead>\n",
              "    <tr style=\"text-align: right;\">\n",
              "      <th></th>\n",
              "      <th></th>\n",
              "      <th></th>\n",
              "    </tr>\n",
              "  </thead>\n",
              "  <tbody>\n",
              "    <tr>\n",
              "      <th>0</th>\n",
              "      <td>advertising</td>\n",
              "      <td>adsouth partners, inc. provides advertising ag...</td>\n",
              "    </tr>\n",
              "    <tr>\n",
              "      <th>1</th>\n",
              "      <td>advertising</td>\n",
              "      <td>artec global media, inc., formerly artec consu...</td>\n",
              "    </tr>\n",
              "    <tr>\n",
              "      <th>2</th>\n",
              "      <td>advertising</td>\n",
              "      <td>betawave corporation provides online marketing...</td>\n",
              "    </tr>\n",
              "    <tr>\n",
              "      <th>3</th>\n",
              "      <td>advertising</td>\n",
              "      <td>boston omaha corporation is engaged in the bus...</td>\n",
              "    </tr>\n",
              "    <tr>\n",
              "      <th>4</th>\n",
              "      <td>advertising</td>\n",
              "      <td>bright mountain media, inc. is a digital media...</td>\n",
              "    </tr>\n",
              "  </tbody>\n",
              "</table>\n",
              "</div>"
            ],
            "text/plain": [
              "                                                                 \n",
              "0  advertising  adsouth partners, inc. provides advertising ag...\n",
              "1  advertising  artec global media, inc., formerly artec consu...\n",
              "2  advertising  betawave corporation provides online marketing...\n",
              "3  advertising  boston omaha corporation is engaged in the bus...\n",
              "4  advertising  bright mountain media, inc. is a digital media..."
            ]
          },
          "metadata": {
            "tags": []
          },
          "execution_count": 20
        }
      ]
    },
    {
      "cell_type": "code",
      "metadata": {
        "id": "3J-lQfkzIvOA"
      },
      "source": [
        "train = data"
      ],
      "execution_count": 21,
      "outputs": []
    },
    {
      "cell_type": "code",
      "metadata": {
        "id": "u0vAxiJsSN54",
        "colab": {
          "base_uri": "https://localhost:8080/"
        },
        "outputId": "4045d9bf-992c-4efc-8522-1032d78ad543"
      },
      "source": [
        "data = pd.read_excel('/content/gdrive/MyDrive/intern_tasks/Text-Classification-using-GNN-main/Training_Data(1).xlsx')\n",
        "data.shape"
      ],
      "execution_count": 22,
      "outputs": [
        {
          "output_type": "execute_result",
          "data": {
            "text/plain": [
              "(6045, 3)"
            ]
          },
          "metadata": {
            "tags": []
          },
          "execution_count": 22
        }
      ]
    },
    {
      "cell_type": "code",
      "metadata": {
        "id": "ENtjDo3EShBr"
      },
      "source": [
        ""
      ],
      "execution_count": 22,
      "outputs": []
    },
    {
      "cell_type": "code",
      "metadata": {
        "id": "T-XqPnmuTrnZ"
      },
      "source": [
        "data.iloc[:,0] = data.iloc[:,0].str.lower()"
      ],
      "execution_count": 23,
      "outputs": []
    },
    {
      "cell_type": "code",
      "metadata": {
        "id": "2faaaIGQTyif"
      },
      "source": [
        "test = data"
      ],
      "execution_count": 24,
      "outputs": []
    },
    {
      "cell_type": "code",
      "metadata": {
        "id": "GNuQxXOdKP_E"
      },
      "source": [
        "train.to_csv('/content/gdrive/MyDrive/intern_tasks/Text-Classification-using-GNN-main/Training_Data(1).xlsx',index=False)\n",
        "test.to_csv('/content/gdrive/MyDrive/intern_tasks/Text-Classification-using-GNN-main/Training_Data(1).xlsx',index=False)"
      ],
      "execution_count": 25,
      "outputs": []
    },
    {
      "cell_type": "code",
      "metadata": {
        "id": "gkHQbjjUE31t"
      },
      "source": [
        ""
      ],
      "execution_count": 25,
      "outputs": []
    },
    {
      "cell_type": "markdown",
      "metadata": {
        "id": "qD_SSAB0KILz"
      },
      "source": [
        "# Tokenizer and embedding matrix from pretrained embeddings"
      ]
    },
    {
      "cell_type": "code",
      "metadata": {
        "id": "jFsBGDphKRHz"
      },
      "source": [
        "class Tokenizer:\n",
        "  def __init__(self, pretrained_file):\n",
        "    self.pretrained_file = pretrained_file\n",
        "    self.str_to_int = dict() #for fast lookups\n",
        "    self.int_to_str = dict()\n",
        "\n",
        "    self.padding = '#pad#'\n",
        "    self.rand_str = '#rand#'\n",
        "    self.embedding_matrix = list()\n",
        "\n",
        "    #preparing embedding matrix\n",
        "    with open(pretrained_file,'r', encoding='utf8') as f:\n",
        "      for i, line in enumerate(f):\n",
        "        values = line.split()\n",
        "        self.str_to_int[values[0]] = i\n",
        "        self.int_to_str[i] = values[0]\n",
        "        self.embedding_matrix.append([float(v) for v in values[1:]])\n",
        "    i += 1\n",
        "    self.str_to_int[self.rand_str] = i\n",
        "    self.int_to_str[i] = self.rand_str\n",
        "    self.embedding_matrix.append(np.random.rand(len(self.embedding_matrix[0])))\n",
        "\n",
        "    i += 1\n",
        "    self.str_to_int[self.padding] = i\n",
        "    self.int_to_str[i] = self.padding\n",
        "    self.embedding_matrix.append(np.zeros(len(self.embedding_matrix[0])))\n",
        "\n",
        "    self.embedding_matrix = np.array(self.embedding_matrix).astype(np.float32)\n",
        "\n",
        "  def encode(self, sentence):\n",
        "    if len(sentence): list(sentence)\n",
        "    else: sentence = sentence.split(\" \")\n",
        "\n",
        "    encoded_sentence = list()\n",
        "    for word in sentence:\n",
        "      encoded_sentence.append(self.str_to_int.get(word,self.str_to_int[self.rand_str]))\n",
        "    return encoded_sentence\n",
        "\n",
        "  def decode(self,en_sentence):\n",
        "    if type(en_sentence) == list:\n",
        "      sentence = list()\n",
        "      for en_word in en_sentence:\n",
        "        sentence.append(self.int_to_str[en_word])\n",
        "      return senetnce\n",
        "\n",
        "  def embedding(self, en_sentence):\n",
        "    return self.embedding_matrix[np.array(en_sentence)]\n"
      ],
      "execution_count": 26,
      "outputs": []
    },
    {
      "cell_type": "code",
      "metadata": {
        "id": "v9wLX3BLQaCL"
      },
      "source": [
        "tokenizer = Tokenizer('/content/gdrive/MyDrive/intern_tasks/Text-Classification-using-GNN-main/glove.6B.300d.txt',)\r\n",
        "#from keras.preprocessing.text import Tokenizer\r\n",
        "#MAX_NB_WORDS = 2000\r\n",
        "#tokenizer = Tokenizer(nb_words=MAX_NB_WORDS, char_level=False)"
      ],
      "execution_count": 34,
      "outputs": []
    },
    {
      "cell_type": "code",
      "metadata": {
        "id": "7fYPyLSzJa6e",
        "colab": {
          "base_uri": "https://localhost:8080/",
          "height": 120
        },
        "outputId": "9f025f48-29ba-4d44-f86c-7e3a493e5ea5"
      },
      "source": [
        "'''import pandas as pd\n",
        "from pandas import read_excel\n",
        "data['Business Description'] = data['Business Description'].astype(str)\n",
        "from sklearn.preprocessing import OrdinalEncoder\n",
        "ord_enc = OrdinalEncoder()\n",
        "data[\"x\"] = ord_enc.fit_transform(data[[\"Industry Classification Tag\"]])\n",
        "data=data.drop(['Industry Classification Tag','Company Name'], axis = 1)\n",
        "plt.hist(data['x'])\n",
        "train_text, test_text, train_y, test_y = train_test_split(data['Business Description'],data['x'],test_size = 0.2)\n",
        "train_text.shape\n",
        "MAX_NB_WORDS = 20000\n",
        "\n",
        "# get the raw text data\n",
        "texts_train = train_text.astype(str)\n",
        "texts_test = test_text.astype(str)\n",
        "\n",
        "# finally, vectorize the text samples into a 2D integer tensor\n",
        "tokenizer = Tokenizer(nb_words=MAX_NB_WORDS, char_level=False)\n",
        "tokenizer.fit_on_texts(texts_train)\n",
        "sequences = tokenizer.texts_to_sequences(texts_train)\n",
        "sequences_test = tokenizer.texts_to_sequences(texts_test)\n",
        "\n",
        "word_index = tokenizer.word_index\n",
        "print('Found %s unique tokens.' % len(word_index))\n",
        "sequences[0]'''"
      ],
      "execution_count": 28,
      "outputs": [
        {
          "output_type": "execute_result",
          "data": {
            "application/vnd.google.colaboratory.intrinsic+json": {
              "type": "string"
            },
            "text/plain": [
              "'import pandas as pd\\nfrom pandas import read_excel\\ndata[\\'Business Description\\'] = data[\\'Business Description\\'].astype(str)\\nfrom sklearn.preprocessing import OrdinalEncoder\\nord_enc = OrdinalEncoder()\\ndata[\"x\"] = ord_enc.fit_transform(data[[\"Industry Classification Tag\"]])\\ndata=data.drop([\\'Industry Classification Tag\\',\\'Company Name\\'], axis = 1)\\nplt.hist(data[\\'x\\'])\\ntrain_text, test_text, train_y, test_y = train_test_split(data[\\'Business Description\\'],data[\\'x\\'],test_size = 0.2)\\ntrain_text.shape\\nMAX_NB_WORDS = 20000\\n\\n# get the raw text data\\ntexts_train = train_text.astype(str)\\ntexts_test = test_text.astype(str)\\n\\n# finally, vectorize the text samples into a 2D integer tensor\\ntokenizer = Tokenizer(nb_words=MAX_NB_WORDS, char_level=False)\\ntokenizer.fit_on_texts(texts_train)\\nsequences = tokenizer.texts_to_sequences(texts_train)\\nsequences_test = tokenizer.texts_to_sequences(texts_test)\\n\\nword_index = tokenizer.word_index\\nprint(\\'Found %s unique tokens.\\' % len(word_index))\\nsequences[0]'"
            ]
          },
          "metadata": {
            "tags": []
          },
          "execution_count": 28
        }
      ]
    },
    {
      "cell_type": "markdown",
      "metadata": {
        "id": "cTHiKOtkdlj_"
      },
      "source": [
        "# Preparing Train, Validation and Test Data Loaders"
      ]
    },
    {
      "cell_type": "code",
      "metadata": {
        "id": "xdtKe7SpQEKk"
      },
      "source": [
        "def create_neighbor_set(node_set, p=3):\n",
        "  sequence_length = len(node_set)\n",
        "  neighbor_set = []\n",
        "  for i in range(sequence_length):\n",
        "      neighbor = []\n",
        "      for j in range(-p, p+1):\n",
        "          if 0 <= i + j < sequence_length:\n",
        "              neighbor.append(node_set[i+j])\n",
        "      neighbor_set.append(neighbor)\n",
        "  return neighbor_set"
      ],
      "execution_count": 35,
      "outputs": []
    },
    {
      "cell_type": "code",
      "metadata": {
        "id": "9sTrsPuyU5Ta"
      },
      "source": [
        "class GNN_Dataset(Dataset):\n",
        "    def __init__(self, node_sets, neighbor_sets, public_edge_mask, labels):\n",
        "      super(GNN_Dataset).__init__()\n",
        "      self.node_sets = node_sets\n",
        "      self.neighbor_sets = neighbor_sets\n",
        "      self.public_edge_mask = public_edge_mask\n",
        "      self.labels = labels\n",
        "\n",
        "    def __getitem__(self, i):\n",
        "      if self.labels:\n",
        "        return torch.LongTensor(self.node_sets[i]), \\\n",
        "              torch.nn.utils.rnn.pad_sequence([torch.LongTensor(neighbor) for neighbor in self.neighbor_sets[i]], batch_first=True, padding_value=1), \\\n",
        "              self.public_edge_mask[torch.LongTensor(self.node_sets[i]).unsqueeze(-1).repeat(1, torch.nn.utils.rnn.pad_sequence([torch.LongTensor(neighbor) for neighbor in self.neighbor_sets[i]], batch_first=True, padding_value=1).shape[-1]), \\\n",
        "                                    torch.nn.utils.rnn.pad_sequence([torch.LongTensor(neighbor) for neighbor in self.neighbor_sets[i]], batch_first=True, padding_value=1)], \\\n",
        "              torch.FloatTensor(self.labels[i])\n",
        "      else:\n",
        "        return torch.LongTensor(self.node_sets[i]), \\\n",
        "              torch.nn.utils.rnn.pad_sequence([torch.LongTensor(neighbor) for neighbor in self.neighbor_sets[i]], batch_first=True, padding_value=1), \\\n",
        "              self.public_edge_mask[torch.LongTensor(self.node_sets[i]).unsqueeze(-1).repeat(1, torch.nn.utils.rnn.pad_sequence([torch.LongTensor(neighbor) for neighbor in self.neighbor_sets[i]], batch_first=True, padding_value=1).shape[-1]), \\\n",
        "                                    torch.nn.utils.rnn.pad_sequence([torch.LongTensor(neighbor) for neighbor in self.neighbor_sets[i]], batch_first=True, padding_value=1)]\n",
        "\n",
        "\n",
        "    def __len__(self):\n",
        "      return len(self.node_sets)"
      ],
      "execution_count": 36,
      "outputs": []
    },
    {
      "cell_type": "code",
      "metadata": {
        "id": "ArLgLxV4Q-xu"
      },
      "source": [
        "class GNN_Dataset_class:\n",
        "  def __init__(self, train_filename, test_filename, tokenizer, MAX_LENGTH=70, p=3, min_freq=2, train_validation_split=0.5):\n",
        "    self.train_filename = train_filename\n",
        "    self.test_filename = test_filename\n",
        "    self.tokenizer = tokenizer\n",
        "    self.MAX_LENGTH = MAX_LENGTH\n",
        "    self.p = p\n",
        "    self.min_freq = min_freq\n",
        "    self.train_validation_split = train_validation_split\n",
        "\n",
        "    self.train_data = pd.read_csv(self.train_filename, header=None)\n",
        "    self.train_data.dropna(0,inplace=True)\n",
        "    self.test_data = pd.read_csv(self.test_filename, header=None)\n",
        "    self.test_data.dropna(0,inplace=True)\n",
        "\n",
        "    self.str_to_int = {'#rand#': 0, '#pad#': 1} \n",
        "    self.int_to_str = {0: '#rand#', 1: '#pad#'}\n",
        "    self.vocab_count = len(self.str_to_int)\n",
        "    self.embedding_matrix = None\n",
        "    self.label_dict = dict(zip(self.train_data[0].unique(), pd.get_dummies(self.train_data[0].unique()).values.tolist()))\n",
        "\n",
        "    self.train_dataset, self.validation_dataset = random_split(self.train_data.to_numpy(), [int(len(self.train_data) * train_validation_split), len(self.train_data) - int(len(self.train_data) * train_validation_split)])\n",
        "    self.test_dataset = self.test_data.to_numpy()\n",
        "\n",
        "    self.build_vocab()\n",
        "\n",
        "    self.train_dataset, self.validation_dataset, self.test_dataset, self.edge_stat, self.public_edge_mask = self.prepare_dataset()\n",
        "\n",
        "  def build_vocab(self):\n",
        "    scrap = [\".\"]\n",
        "    #,\\\n",
        "    #        \"'\",\"`\",\"''\",\"\\\"\",\"“\",\" \",\"'m\",\"'no\",\"***\",\"--\",\"...\",\"[\",\"]\",\"{\",\"}\",\"~\",\"@\",\"#\",\"$\",\"%\",\"^\",\"*\",\"/\",\"<\",\">\",\"+\",\"-\",\"=\"]\n",
        "    vocab_list = [sentence.split(' ') for _, sentence in self.train_dataset]\n",
        "    unique_vocab = [] \n",
        "    for vocab in vocab_list:\n",
        "      if vocab not in scrap: unique_vocab.extend(vocab)\n",
        "    unique_vocab = list(set(unique_vocab))\n",
        "    for vocab in unique_vocab:\n",
        "      if vocab in self.tokenizer.str_to_int.keys():\n",
        "        self.str_to_int[vocab] = self.vocab_count\n",
        "        self.int_to_str[self.vocab_count] = vocab\n",
        "        self.vocab_count += 1\n",
        "    self.embedding_matrix = self.tokenizer.embedding(self.tokenizer.encode(list(self.str_to_int.keys())))\n",
        "\n",
        "  def prepare_dataset(self):\n",
        "    node_sets = [[self.str_to_int.get(vocab, 0) for vocab in sentence.strip().split(' ')][:self.MAX_LENGTH] for _, sentence in self.train_dataset] \n",
        "    neighbor_sets = [create_neighbor_set(node_set, p=self.p) for node_set in node_sets]\n",
        "    labels = [self.label_dict[label] for label, _ in self.train_dataset]\n",
        "\n",
        "    edge_stat, public_edge_mask = self.build_public_edge_mask(node_sets, neighbor_sets, min_freq=self.min_freq)\n",
        "\n",
        "    train_dataset = GNN_Dataset(node_sets, neighbor_sets, public_edge_mask, labels)\n",
        "\n",
        "    node_sets = [[self.str_to_int.get(vocab, 0) for vocab in sentence.strip().split(' ')][:self.MAX_LENGTH] for _, sentence in self.validation_dataset]\n",
        "    neighbor_sets = [create_neighbor_set(node_set, p=self.p) for node_set in node_sets]\n",
        "    labels = [self.label_dict[label] for label, _ in self.validation_dataset]\n",
        "    validation_dataset = GNN_Dataset(node_sets, neighbor_sets, public_edge_mask, labels)\n",
        "\n",
        "    node_sets = [[self.str_to_int.get(vocab, 0) for vocab in sentence.item().strip().split(' ')][:self.MAX_LENGTH] for sentence in self.test_dataset]\n",
        "    neighbor_sets = [create_neighbor_set(node_set, p=self.p) for node_set in node_sets]\n",
        "    test_dataset = GNN_Dataset(node_sets, neighbor_sets, public_edge_mask, labels=None)\n",
        "\n",
        "    return train_dataset, validation_dataset, test_dataset, edge_stat, public_edge_mask\n",
        "\n",
        "  def build_public_edge_mask(self, node_sets, neighbor_sets, min_freq=2):\n",
        "    edge_stat = torch.zeros(self.vocab_count, self.vocab_count)\n",
        "    for node_set, neighbor_set in zip(node_sets, neighbor_sets):\n",
        "      for neighbor in neighbor_set:\n",
        "        for to_node in neighbor:\n",
        "          edge_stat[node_set, to_node] += 1\n",
        "    public_edge_mask = edge_stat < min_freq\n",
        "    return edge_stat, public_edge_mask\n",
        "  "
      ],
      "execution_count": 41,
      "outputs": []
    },
    {
      "cell_type": "code",
      "metadata": {
        "id": "Hmbs_RjfyFQE"
      },
      "source": [
        "# libraries\r\n",
        "\r\n",
        "import numpy as np # linear algebra\r\n",
        "import pandas as pd # data processing, CSV file I/O (e.g. pd.read_csv)\r\n",
        "import matplotlib.pyplot as plt\r\n",
        "np.random.seed(32)\r\n",
        "from sklearn.model_selection import train_test_split\r\n",
        "from sklearn.metrics import roc_auc_score\r\n",
        "from sklearn.manifold import TSNE\r\n",
        "\r\n",
        "from keras.preprocessing.text import Tokenizer\r\n",
        "from keras.preprocessing.sequence import pad_sequences\r\n",
        "from keras.layers import LSTM, Conv1D, MaxPooling1D, Dropout\r\n",
        "from keras.utils.np_utils import to_categorical\r\n",
        "\r\n",
        "\r\n",
        "%matplotlib inline\r\n",
        "from sklearn.feature_extraction.text import CountVectorizer\r\n",
        "\r\n",
        "vectorizer = CountVectorizer(min_df=0, lowercase=False)\r\n",
        "vectorizer.fit(data[\"Business Description\"])\r\n",
        "vectorizer.vocabulary_\r\n",
        "vectorizer.transform(data[\"Business Description\"]).toarray()\r\n",
        "from sklearn.model_selection import train_test_split\r\n"
      ],
      "execution_count": 76,
      "outputs": []
    },
    {
      "cell_type": "code",
      "metadata": {
        "colab": {
          "base_uri": "https://localhost:8080/",
          "height": 1000
        },
        "id": "pm2sD3rYxJed",
        "outputId": "b136f0fe-9f1f-46c7-ff32-28f866dced7a"
      },
      "source": [
        "import pandas as pd\r\n",
        "from pandas import read_excel\r\n",
        "import matplotlib.pyplot as plt\r\n",
        "data['Business Description'] = data['Business Description'].astype(str)\r\n",
        "from sklearn.preprocessing import OrdinalEncoder\r\n",
        "#ord_enc = OrdinalEncoder()\r\n",
        "#data[\"x\"] = ord_enc.fit_transform(data[\"Industry Classification Tag\"])\r\n",
        "#data=data.drop(['Industry Classification Tag','Company Name'], axis = 1)\r\n",
        "plt.hist(data['x'])\r\n",
        "train_text, test_text, train_y, test_y = train_test_split(data['Business Description'],data['x'],test_size = 0.2)\r\n",
        "train_text.shape\r\n",
        "MAX_NB_WORDS = 20000\r\n",
        "\r\n",
        "# get the raw text data\r\n",
        "texts_train = train_text.astype(str)\r\n",
        "texts_test = test_text.astype(str)\r\n",
        "\r\n",
        "# finally, vectorize the text samples into a 2D integer tensor\r\n",
        "tokenizer = Tokenizer(nb_words=MAX_NB_WORDS, char_level=False)\r\n",
        "tokenizer.fit_on_texts(texts_train)\r\n",
        "sequences = tokenizer.texts_to_sequences(texts_train)\r\n",
        "sequences_test = tokenizer.texts_to_sequences(texts_test)\r\n",
        "\r\n",
        "word_index = tokenizer.word_index\r\n",
        "print('Found %s unique tokens.' % len(word_index))\r\n",
        "sequences[0]"
      ],
      "execution_count": 51,
      "outputs": [
        {
          "output_type": "stream",
          "text": [
            "/usr/local/lib/python3.7/dist-packages/keras_preprocessing/text.py:180: UserWarning: The `nb_words` argument in `Tokenizer` has been renamed `num_words`.\n",
            "  warnings.warn('The `nb_words` argument in `Tokenizer` '\n"
          ],
          "name": "stderr"
        },
        {
          "output_type": "stream",
          "text": [
            "Found 32726 unique tokens.\n"
          ],
          "name": "stdout"
        },
        {
          "output_type": "execute_result",
          "data": {
            "text/plain": [
              "[4348,\n",
              " 634,\n",
              " 14,\n",
              " 6,\n",
              " 34,\n",
              " 4,\n",
              " 2409,\n",
              " 634,\n",
              " 5,\n",
              " 37,\n",
              " 4,\n",
              " 165,\n",
              " 29,\n",
              " 28,\n",
              " 475,\n",
              " 594,\n",
              " 2261,\n",
              " 16,\n",
              " 2,\n",
              " 1702,\n",
              " 3,\n",
              " 1436,\n",
              " 1176,\n",
              " 2,\n",
              " 18,\n",
              " 4,\n",
              " 2409,\n",
              " 402,\n",
              " 87,\n",
              " 2,\n",
              " 4348,\n",
              " 11957,\n",
              " 83,\n",
              " 1002,\n",
              " 11958,\n",
              " 39,\n",
              " 9,\n",
              " 1177,\n",
              " 2675,\n",
              " 1121,\n",
              " 2806,\n",
              " 1,\n",
              " 17335,\n",
              " 39,\n",
              " 9,\n",
              " 2338,\n",
              " 2148,\n",
              " 11959,\n",
              " 381,\n",
              " 4031,\n",
              " 20,\n",
              " 5730,\n",
              " 3799,\n",
              " 846,\n",
              " 2807,\n",
              " 52,\n",
              " 4349,\n",
              " 395,\n",
              " 31,\n",
              " 1348,\n",
              " 52,\n",
              " 11960,\n",
              " 9,\n",
              " 7,\n",
              " 2262,\n",
              " 2148,\n",
              " 15,\n",
              " 3800,\n",
              " 1,\n",
              " 5731,\n",
              " 2806,\n",
              " 508,\n",
              " 55,\n",
              " 7,\n",
              " 335,\n",
              " 594,\n",
              " 2676,\n",
              " 7627,\n",
              " 61,\n",
              " 5732,\n",
              " 11959,\n",
              " 381,\n",
              " 38,\n",
              " 17,\n",
              " 2,\n",
              " 863,\n",
              " 1405,\n",
              " 2,\n",
              " 4348,\n",
              " 17336,\n",
              " 5733,\n",
              " 1882,\n",
              " 25,\n",
              " 2675,\n",
              " 1,\n",
              " 4031,\n",
              " 1405,\n",
              " 11,\n",
              " 217,\n",
              " 17337,\n",
              " 3,\n",
              " 11961,\n",
              " 52,\n",
              " 17338,\n",
              " 185,\n",
              " 269,\n",
              " 2339,\n",
              " 673,\n",
              " 27,\n",
              " 225,\n",
              " 17339,\n",
              " 1,\n",
              " 11962,\n",
              " 482,\n",
              " 2,\n",
              " 4348,\n",
              " 11957,\n",
              " 83,\n",
              " 809,\n",
              " 4709,\n",
              " 4350,\n",
              " 800,\n",
              " 1,\n",
              " 82,\n",
              " 3,\n",
              " 7,\n",
              " 550,\n",
              " 1832,\n",
              " 1,\n",
              " 335,\n",
              " 169,\n",
              " 588,\n",
              " 1882]"
            ]
          },
          "metadata": {
            "tags": []
          },
          "execution_count": 51
        },
        {
          "output_type": "display_data",
          "data": {
            "image/png": "[encoded data removed]",
            "text/plain": [
              "<Figure size 432x288 with 1 Axes>"
            ]
          },
          "metadata": {
            "tags": [],
            "needs_background": "light"
          }
        }
      ]
    },
    {
      "cell_type": "code",
      "metadata": {
        "id": "ZGzKjxa8LTHk"
      },
      "source": [
        "#dataset = GNN_Dataset_class(train_filename='/content/gdrive/MyDrive/intern_tasks/Text-Classification-using-GNN-main/Training_Data(1).xlsx',\n",
        "#                                  test_filename='/content/gdrive/MyDrive/intern_tasks/Text-Classification-using-GNN-main/Training_Data(1).xlsx', tokenizer=tokenizer)\n",
        "dataset = sequences"
      ],
      "execution_count": 61,
      "outputs": []
    },
    {
      "cell_type": "code",
      "metadata": {
        "id": "lyas92Qkem4X"
      },
      "source": [
        "def pad_custom_sequence(sequences):\n",
        "  node_sets_sequence = []\n",
        "  neighbor_sets_sequence = []\n",
        "  public_edge_mask_sequence = []\n",
        "  label_sequence = []\n",
        "  for node_sets, neighbor_sets, public_edge_mask, label in sequences:\n",
        "    node_sets_sequence.append(node_sets)\n",
        "    neighbor_sets_sequence.append(neighbor_sets)\n",
        "    public_edge_mask_sequence.append(public_edge_mask)\n",
        "    label_sequence.append(label)\n",
        "  node_sets_sequence = torch.nn.utils.rnn.pad_sequence(node_sets_sequence, batch_first=True, padding_value=1)\n",
        "  neighbor_sets_sequence, _ = padding_tensor(neighbor_sets_sequence)\n",
        "  public_edge_mask_sequence, _ = padding_tensor(public_edge_mask_sequence)\n",
        "  label_sequence = torch.nn.utils.rnn.pad_sequence(label_sequence, batch_first=True, padding_value=1)\n",
        "  return node_sets_sequence, neighbor_sets_sequence, public_edge_mask_sequence, label_sequence\n",
        "\n",
        "def pad_custom_for_test(sequences):\n",
        "  node_sets_sequence = []\n",
        "  neighbor_sets_sequence = []\n",
        "  public_edge_mask_sequence = []\n",
        "  for node_sets, neighbor_sets, public_edge_mask in sequences:\n",
        "    node_sets_sequence.append(node_sets)\n",
        "    neighbor_sets_sequence.append(neighbor_sets)\n",
        "    public_edge_mask_sequence.append(public_edge_mask)\n",
        "  node_sets_sequence = torch.nn.utils.rnn.pad_sequence(node_sets_sequence, batch_first=True, padding_value=1)\n",
        "  neighbor_sets_sequence, _ = padding_tensor(neighbor_sets_sequence)\n",
        "  public_edge_mask_sequence, _ = padding_tensor(public_edge_mask_sequence)\n",
        "  return node_sets_sequence, neighbor_sets_sequence, public_edge_mask_sequence\n",
        "  \n",
        "\n",
        "def padding_tensor(sequences, padding_idx=1):\n",
        "  num = len(sequences)\n",
        "  max_len_0 = max([s.shape[0] for s in sequences])\n",
        "  max_len_1 = max([s.shape[1] for s in sequences])\n",
        "  out_dims = (num, max_len_0, max_len_1)\n",
        "  out_tensor = sequences[0].data.new(*out_dims).fill_(padding_idx)\n",
        "  for i, tensor in enumerate(sequences):\n",
        "    len_0 = tensor.size(0)\n",
        "    len_1 = tensor.size(1)\n",
        "    out_tensor[i, :len_0, :len_1] = tensor\n",
        "  mask = out_tensor == padding_idx\n",
        "  return out_tensor, mask"
      ],
      "execution_count": 63,
      "outputs": []
    },
    {
      "cell_type": "code",
      "metadata": {
        "id": "gdBUsDYYewnj"
      },
      "source": [
        "train_loader = DataLoader(dataset, batch_size=32, shuffle=True, collate_fn=pad_custom_sequence)\n",
        "validation_loader = DataLoader(word_index, batch_size=32, shuffle=True, collate_fn=pad_custom_sequence)\n",
        "test_loader = DataLoader(sequences_test, batch_size=32, collate_fn=pad_custom_for_test)"
      ],
      "execution_count": 68,
      "outputs": []
    },
    {
      "cell_type": "code",
      "metadata": {
        "colab": {
          "base_uri": "https://localhost:8080/"
        },
        "id": "BweygiFU2LnP",
        "outputId": "982d6294-9422-4300-b2df-0289ba7706e9"
      },
      "source": [
        "MAX_SEQUENCE_LENGTH = 160\r\n",
        "\r\n",
        "# pad sequences with 0s\r\n",
        "x_train = pad_sequences(sequences, maxlen=MAX_SEQUENCE_LENGTH)\r\n",
        "x_test = pad_sequences(sequences_test, maxlen=MAX_SEQUENCE_LENGTH)\r\n",
        "print('Shape of data tensor:', x_train.shape)\r\n",
        "print('Shape of data test tensor:', x_test.shape)"
      ],
      "execution_count": 77,
      "outputs": [
        {
          "output_type": "stream",
          "text": [
            "Shape of data tensor: (4836, 160)\n",
            "Shape of data test tensor: (1209, 160)\n"
          ],
          "name": "stdout"
        }
      ]
    },
    {
      "cell_type": "code",
      "metadata": {
        "colab": {
          "base_uri": "https://localhost:8080/"
        },
        "id": "L8DYWtTh2OL9",
        "outputId": "6b353e87-6b5f-4099-d276-ca5b8eb66de0"
      },
      "source": [
        "y_train = train_y\r\n",
        "y_test = test_y\r\n",
        "\r\n",
        "y_train = to_categorical(np.asarray(y_train))\r\n",
        "print('Shape of label tensor:', y_train.shape)"
      ],
      "execution_count": 78,
      "outputs": [
        {
          "output_type": "stream",
          "text": [
            "Shape of label tensor: (4836, 62)\n"
          ],
          "name": "stdout"
        }
      ]
    },
    {
      "cell_type": "code",
      "metadata": {
        "id": "luo8iQBK2V2S"
      },
      "source": [
        "from keras.layers import Dense, Input, Flatten\r\n",
        "from keras.layers import GlobalAveragePooling1D, Embedding\r\n",
        "from keras.models import Model\r\n",
        "EMBEDDING_DIM = 20\r\n",
        "N_CLASSES = 62\r\n",
        "sequence_input = Input(shape=(MAX_SEQUENCE_LENGTH,), dtype='int32')\r\n",
        "\r\n",
        "embedding_layer = Embedding(MAX_NB_WORDS, EMBEDDING_DIM,\r\n",
        "                            input_length=MAX_SEQUENCE_LENGTH,\r\n",
        "                            trainable=True)\r\n",
        "embedded_sequences = embedding_layer(sequence_input)"
      ],
      "execution_count": 79,
      "outputs": []
    },
    {
      "cell_type": "markdown",
      "metadata": {
        "id": "Ar3OkCxYd3jy"
      },
      "source": [
        "# Text Level GNN"
      ]
    },
    {
      "cell_type": "code",
      "metadata": {
        "id": "P9_1SyhKe-bt"
      },
      "source": [
        "class MessagePassing(nn.Module):\n",
        "  def __init__(self, vertice_count, input_size, out_size, dropout_rate=0, padding_idx=1):\n",
        "    super(MessagePassing, self).__init__()\n",
        "    self.vertice_count = vertice_count \n",
        "    self.input_size = input_size \n",
        "    self.out_size = out_size \n",
        "    self.dropout_rate = dropout_rate\n",
        "    self.padding_idx = padding_idx\n",
        "    self.information_rate = nn.Parameter(torch.rand(self.vertice_count, 1)) \n",
        "    self.linear = nn.Linear(self.input_size, self.out_size)\n",
        "    self.dropout = nn.Dropout(self.dropout_rate)\n",
        "\n",
        "  def forward(self, node_sets, embedded_node, edge_weight, embedded_neighbor_node):\n",
        "    tmp_tensor = (edge_weight.view(-1, 1) * embedded_neighbor_node.view(-1, self.input_size)).view(embedded_neighbor_node.shape) \n",
        "    tmp_tensor = tmp_tensor.masked_fill(tmp_tensor == 0, -1e18) \n",
        "    tmp_tensor = self.dropout(tmp_tensor)\n",
        "    M = tmp_tensor.max(dim=2)[0] \n",
        "    information_rate = self.information_rate[node_sets] \n",
        "    information_rate = information_rate.masked_fill((node_sets == self.padding_idx).unsqueeze(-1), 1) \n",
        "    embedded_node = (1 - information_rate) * M + information_rate * embedded_node \n",
        "    sum_embedded_node = embedded_node.sum(dim=1) \n",
        "    x = F.relu(self.linear(sum_embedded_node)) \n",
        "    #x = self.dropout(x)\n",
        "    y = F.softmax(x, dim=1)\n",
        "    return y"
      ],
      "execution_count": 69,
      "outputs": []
    },
    {
      "cell_type": "code",
      "metadata": {
        "id": "JnC3uQD7fjNG"
      },
      "source": [
        "class TextLevelGNN(nn.Module):\n",
        "  def __init__(self, pretrained_embeddings, out_size, dropout_rate=0, padding_idx=1):\n",
        "    super(TextLevelGNN, self).__init__()\n",
        "    self.out_size = out_size # c\n",
        "    self.padding_idx = padding_idx\n",
        "    self.weight_matrix = nn.Parameter(torch.randn(pretrained_embeddings.shape[0], pretrained_embeddings.shape[0])) \n",
        "    self.embedding = nn.Embedding.from_pretrained(pretrained_embeddings, freeze=False, padding_idx=self.padding_idx) \n",
        "    self.message_passing = MessagePassing(vertice_count=pretrained_embeddings.shape[0], input_size=pretrained_embeddings.shape[1], out_size=self.out_size, dropout_rate=dropout_rate, padding_idx=self.padding_idx) \n",
        "    self.public_edge_weight = nn.Parameter(torch.randn(1, 1)) \n",
        "\n",
        "  def forward(self, node_sets, neighbor_sets, public_edge_mask):\n",
        "    embedded_node = self.embedding(node_sets)\n",
        "    edge_weight = model.weight_matrix[node_sets.unsqueeze(2).repeat(1, 1, neighbor_sets.shape[-1]), neighbor_sets] \n",
        "    a = edge_weight * ~public_edge_mask \n",
        "    b = self.public_edge_weight.unsqueeze(2).expand(1, public_edge_mask.shape[-2], public_edge_mask.shape[-1]) * public_edge_mask # (batch_size, max_sentence_length, max_neighbor_count)\n",
        "    edge_weight = a + b \n",
        "    embedded_neighbor_node = self.embedding(neighbor_sets)\n",
        "\n",
        "    # Apply mask to edge_weight, to mask and cut-off any relationships to the padding nodes\n",
        "    edge_weight = edge_weight.masked_fill((node_sets.unsqueeze(2).repeat(1, 1, neighbor_sets.shape[-1]) == self.padding_idx) | (neighbor_sets == self.padding_idx), 0) # (batch_size, max_sentence_length, max_neighbor_count)\n",
        "    x = self.message_passing(node_sets, embedded_node, edge_weight, embedded_neighbor_node) # (batch_size, c)\n",
        "    return x"
      ],
      "execution_count": 70,
      "outputs": []
    },
    {
      "cell_type": "code",
      "metadata": {
        "id": "ihEzhMnOe2xU"
      },
      "source": [
        "device = torch.device('cuda:0') if torch.cuda.is_available() else torch.device('cpu')"
      ],
      "execution_count": 71,
      "outputs": []
    },
    {
      "cell_type": "markdown",
      "metadata": {
        "id": "Hny2fIC6dSMb"
      },
      "source": [
        "# Optimization"
      ]
    },
    {
      "cell_type": "code",
      "metadata": {
        "id": "NYNCMf36h0a_",
        "colab": {
          "base_uri": "https://localhost:8080/",
          "height": 313
        },
        "outputId": "aaa2c372-148e-458b-9f89-372abad0dcbe"
      },
      "source": [
        "model = TextLevelGNN(pretrained_embeddings=torch.tensor(embedded_sequences), out_size = 62,dropout_rate=0).to(device)\n",
        "criterion = nn.BCELoss()"
      ],
      "execution_count": 82,
      "outputs": [
        {
          "output_type": "error",
          "ename": "TypeError",
          "evalue": "ignored",
          "traceback": [
            "\u001b[0;31m---------------------------------------------------------------------------\u001b[0m",
            "\u001b[0;31mTypeError\u001b[0m                                 Traceback (most recent call last)",
            "\u001b[0;32m<ipython-input-82-fa01f838897e>\u001b[0m in \u001b[0;36m<module>\u001b[0;34m()\u001b[0m\n\u001b[0;32m----> 1\u001b[0;31m \u001b[0mmodel\u001b[0m \u001b[0;34m=\u001b[0m \u001b[0mTextLevelGNN\u001b[0m\u001b[0;34m(\u001b[0m\u001b[0mpretrained_embeddings\u001b[0m\u001b[0;34m=\u001b[0m\u001b[0mtorch\u001b[0m\u001b[0;34m.\u001b[0m\u001b[0mtensor\u001b[0m\u001b[0;34m(\u001b[0m\u001b[0membedded_sequences\u001b[0m\u001b[0;34m)\u001b[0m\u001b[0;34m,\u001b[0m \u001b[0mout_size\u001b[0m \u001b[0;34m=\u001b[0m \u001b[0;36m62\u001b[0m\u001b[0;34m,\u001b[0m\u001b[0mdropout_rate\u001b[0m\u001b[0;34m=\u001b[0m\u001b[0;36m0\u001b[0m\u001b[0;34m)\u001b[0m\u001b[0;34m.\u001b[0m\u001b[0mto\u001b[0m\u001b[0;34m(\u001b[0m\u001b[0mdevice\u001b[0m\u001b[0;34m)\u001b[0m\u001b[0;34m\u001b[0m\u001b[0;34m\u001b[0m\u001b[0m\n\u001b[0m\u001b[1;32m      2\u001b[0m \u001b[0mcriterion\u001b[0m \u001b[0;34m=\u001b[0m \u001b[0mnn\u001b[0m\u001b[0;34m.\u001b[0m\u001b[0mBCELoss\u001b[0m\u001b[0;34m(\u001b[0m\u001b[0;34m)\u001b[0m\u001b[0;34m\u001b[0m\u001b[0;34m\u001b[0m\u001b[0m\n",
            "\u001b[0;32m/usr/local/lib/python3.7/dist-packages/tensorflow/python/keras/engine/keras_tensor.py\u001b[0m in \u001b[0;36m__len__\u001b[0;34m(self)\u001b[0m\n\u001b[1;32m    238\u001b[0m \u001b[0;34m\u001b[0m\u001b[0m\n\u001b[1;32m    239\u001b[0m   \u001b[0;32mdef\u001b[0m \u001b[0m__len__\u001b[0m\u001b[0;34m(\u001b[0m\u001b[0mself\u001b[0m\u001b[0;34m)\u001b[0m\u001b[0;34m:\u001b[0m\u001b[0;34m\u001b[0m\u001b[0;34m\u001b[0m\u001b[0m\n\u001b[0;32m--> 240\u001b[0;31m     raise TypeError('Keras symbolic inputs/outputs do not '\n\u001b[0m\u001b[1;32m    241\u001b[0m                     \u001b[0;34m'implement `__len__`. You may be '\u001b[0m\u001b[0;34m\u001b[0m\u001b[0;34m\u001b[0m\u001b[0m\n\u001b[1;32m    242\u001b[0m                     \u001b[0;34m'trying to pass Keras symbolic inputs/outputs '\u001b[0m\u001b[0;34m\u001b[0m\u001b[0;34m\u001b[0m\u001b[0m\n",
            "\u001b[0;31mTypeError\u001b[0m: Keras symbolic inputs/outputs do not implement `__len__`. You may be trying to pass Keras symbolic inputs/outputs to a TF API that does not register dispatching, preventing Keras from automatically converting the API call to a lambda layer in the Functional Model. This error will also get raised if you try asserting a symbolic input/output directly."
          ]
        }
      ]
    },
    {
      "cell_type": "code",
      "metadata": {
        "id": "yBfLi8dBh9jv",
        "colab": {
          "base_uri": "https://localhost:8080/",
          "height": 195
        },
        "outputId": "2a497175-98a2-45cd-ef2f-4f2680150e75"
      },
      "source": [
        "lr = 1e-2\n",
        "optimizer = torch.optim.Adam(model.parameters(), lr=lr, weight_decay=1e-4)\n",
        "ni = nf = 0"
      ],
      "execution_count": 73,
      "outputs": [
        {
          "output_type": "error",
          "ename": "NameError",
          "evalue": "ignored",
          "traceback": [
            "\u001b[0;31m---------------------------------------------------------------------------\u001b[0m",
            "\u001b[0;31mNameError\u001b[0m                                 Traceback (most recent call last)",
            "\u001b[0;32m<ipython-input-73-432b3a362878>\u001b[0m in \u001b[0;36m<module>\u001b[0;34m()\u001b[0m\n\u001b[1;32m      1\u001b[0m \u001b[0mlr\u001b[0m \u001b[0;34m=\u001b[0m \u001b[0;36m1e-2\u001b[0m\u001b[0;34m\u001b[0m\u001b[0;34m\u001b[0m\u001b[0m\n\u001b[0;32m----> 2\u001b[0;31m \u001b[0moptimizer\u001b[0m \u001b[0;34m=\u001b[0m \u001b[0mtorch\u001b[0m\u001b[0;34m.\u001b[0m\u001b[0moptim\u001b[0m\u001b[0;34m.\u001b[0m\u001b[0mAdam\u001b[0m\u001b[0;34m(\u001b[0m\u001b[0mmodel\u001b[0m\u001b[0;34m.\u001b[0m\u001b[0mparameters\u001b[0m\u001b[0;34m(\u001b[0m\u001b[0;34m)\u001b[0m\u001b[0;34m,\u001b[0m \u001b[0mlr\u001b[0m\u001b[0;34m=\u001b[0m\u001b[0mlr\u001b[0m\u001b[0;34m,\u001b[0m \u001b[0mweight_decay\u001b[0m\u001b[0;34m=\u001b[0m\u001b[0;36m1e-4\u001b[0m\u001b[0;34m)\u001b[0m\u001b[0;34m\u001b[0m\u001b[0;34m\u001b[0m\u001b[0m\n\u001b[0m\u001b[1;32m      3\u001b[0m \u001b[0mni\u001b[0m \u001b[0;34m=\u001b[0m \u001b[0mnf\u001b[0m \u001b[0;34m=\u001b[0m \u001b[0;36m0\u001b[0m\u001b[0;34m\u001b[0m\u001b[0;34m\u001b[0m\u001b[0m\n",
            "\u001b[0;31mNameError\u001b[0m: name 'model' is not defined"
          ]
        }
      ]
    },
    {
      "cell_type": "code",
      "metadata": {
        "id": "iDlxj5WuSMcV"
      },
      "source": [
        "\"\"\"\n",
        "model_save_name = 'Tt_lvl_company description.pt'\n",
        "path = F\"/content/gdrive/My Drive/GNN Intern/saved_models/{model_save_name}\"\n",
        "model.load_state_dict(torch.load(path, map_location=device))\n",
        "model.to(device)\n",
        "\"\"\""
      ],
      "execution_count": null,
      "outputs": []
    },
    {
      "cell_type": "code",
      "metadata": {
        "id": "8uk_abPvjBl4"
      },
      "source": [
        "ni += nf \n",
        "nf += 1\n",
        "for epoch in range(ni,nf):\n",
        "  model.train()\n",
        "  train_loss = 0\n",
        "  train_correct_items = 0\n",
        "  previous_epoch_timestamp = time()\n",
        "\n",
        "  if (epoch+1) % 5 == 0:\n",
        "    if epoch: \n",
        "      lr *= 0.95\n",
        "    optimizer = torch.optim.Adam(model.parameters(), lr=lr, weight_decay=1e-4)\n",
        "\n",
        "  train_preds = []\n",
        "  validation_preds = []\n",
        "  if epoch == 0:\n",
        "    train_labels = []\n",
        "    validation_labels = []\n",
        "  for i, (node_sets, neighbor_sets, public_edge_masks, labels) in enumerate(train_loader):\n",
        "    node_sets = node_sets.to(device)\n",
        "    neighbor_sets = neighbor_sets.to(device)\n",
        "    public_edge_masks = public_edge_masks.to(device)\n",
        "    labels = labels.to(device)\n",
        "    if epoch == 0: train_labels.append(labels.argmax(dim=1))\n",
        "    prediction = model(node_sets, neighbor_sets, public_edge_masks)\n",
        "    train_preds.append(prediction)\n",
        "    loss = criterion(prediction, labels).to(device)\n",
        "    optimizer.zero_grad()\n",
        "    loss.backward()\n",
        "    optimizer.step()\n",
        "    train_loss += loss.item()\n",
        "    train_correct_items += (prediction.argmax(dim=1) == labels.argmax(dim=1)).sum().item()\n",
        "  train_accuracy = train_correct_items / len(dataset.train_dataset)\n",
        "\n",
        "  model.eval()\n",
        "  validation_loss = 0\n",
        "  validation_correct_items = 0\n",
        "  for i, (node_sets, neighbor_sets, public_edge_masks, labels) in enumerate(validation_loader):\n",
        "    node_sets = node_sets.to(device)\n",
        "    neighbor_sets = neighbor_sets.to(device)\n",
        "    public_edge_masks = public_edge_masks.to(device)\n",
        "    labels = labels.to(device)\n",
        "    if epoch == 0: validation_labels.append(labels.argmax(dim=1))\n",
        "    prediction = model(node_sets, neighbor_sets, public_edge_masks)\n",
        "    validation_preds.append(prediction)\n",
        "    loss = criterion(prediction, labels).to(device)\n",
        "    validation_loss += loss.item()\n",
        "    validation_correct_items += (prediction.argmax(dim=1) == labels.argmax(dim=1)).sum().item()\n",
        "  validation_accuracy = validation_correct_items / len(dataset.validation_dataset)\n",
        "\n",
        "  print(f'Epoch: {epoch+1}, Training Loss: {train_loss:.4f}, Validation Loss: {validation_loss:.4f}, Training Accuracy: {train_accuracy:.4f}, Validation Accuracy: {validation_accuracy:.4f}, Time Used: {time()-previous_epoch_timestamp:.2f}s')\n"
      ],
      "execution_count": null,
      "outputs": []
    },
    {
      "cell_type": "code",
      "metadata": {
        "id": "386wRHb-ZDMQ"
      },
      "source": [
        "model.eval()\n",
        "test_preds = []\n",
        "for i, (node_sets, neighbor_sets, public_edge_masks) in enumerate(test_loader):\n",
        "  node_sets = node_sets.to(device)\n",
        "  neighbor_sets = neighbor_sets.to(device)\n",
        "  public_edge_masks = public_edge_masks.to(device)\n",
        "  prediction = model(node_sets, neighbor_sets, public_edge_masks)\n",
        "  test_preds.append(prediction)"
      ],
      "execution_count": null,
      "outputs": []
    },
    {
      "cell_type": "code",
      "metadata": {
        "id": "ABuUSabmQ4qw"
      },
      "source": [
        ""
      ],
      "execution_count": null,
      "outputs": []
    },
    {
      "cell_type": "markdown",
      "metadata": {
        "id": "dfFSmbFlsS_s"
      },
      "source": [
        "# Saving all Train, Validation, labels and text predictions"
      ]
    },
    {
      "cell_type": "code",
      "metadata": {
        "id": "n8NR-dQUmmjN"
      },
      "source": [
        "train_labels = [label.cpu().data.numpy() for label in train_labels]\n",
        "train_labels = np.concatenate(train_labels)\n",
        "\n",
        "validation_labels = [label.cpu().data.numpy() for label in validation_labels]\n",
        "validation_labels = np.concatenate(validation_labels)\n",
        "\n",
        "np.savez('/content/gdrive/MyDrive/intern_tasks/Text-Classification-using-GNN-main/labels.npz',train_labels = train_labels, validation_labels = validation_labels)\n",
        "del train_labels, validation_labels"
      ],
      "execution_count": null,
      "outputs": []
    },
    {
      "cell_type": "code",
      "metadata": {
        "id": "7UJIrYCFkqFr"
      },
      "source": [
        "train_preds = [pred.cpu().data.numpy() for pred in train_preds]\n",
        "train_preds = np.vstack(train_preds)\n",
        "\n",
        "validation_preds = [pred.cpu().data.numpy() for pred in validation_preds]\n",
        "validation_preds = np.vstack(validation_preds)\n",
        "\n",
        "test_preds = [i.cpu().data.numpy() for i in test_preds]\n",
        "test_preds = np.vstack(test_preds)\n",
        "\n",
        "np.savez('/content/gdrive/MyDrive/intern_tasks/Text-Classification-using-GNN-main/predictions.npz',train_preds = train_preds, validation_preds = validation_preds, test_preds = test_preds)\n",
        "del train_preds, validation_preds, test_preds"
      ],
      "execution_count": null,
      "outputs": []
    },
    {
      "cell_type": "markdown",
      "metadata": {
        "id": "tOe2Y-iGeA5U"
      },
      "source": [
        "# MRR, F1 and ROC_AUC Scores for Train and Validation"
      ]
    },
    {
      "cell_type": "code",
      "metadata": {
        "id": "U3MYui20rhNb"
      },
      "source": [
        "labels = np.load('/content/gdrive/MyDrive/intern_tasks/Text-Classification-using-GNN-main/labels.npz')\n",
        "preds = np.load('/content/gdrive/MyDrive/intern_tasks/Text-Classification-using-GNN-main/predictions.npz')\n",
        "\n",
        "train_preds = preds['train_preds']\n",
        "validation_preds = preds['validation_preds']\n",
        "\n",
        "train_labels = labels['train_labels']\n",
        "validation_labels = labels['validation_labels']\n",
        "\n",
        "train_preds = train_preds.argmax(axis=1)\n",
        "validation_preds = validation_preds.argmax(axis=1)\n",
        "\n",
        "train_f1 = f1_score(train_labels,train_preds,average='weighted')\n",
        "validation_f1 = f1_score(validation_labels,validation_preds,average='weighted')\n",
        "print(\"F1_score of train_set: \",train_f1, \" F1_score of validation_set: \",validation_f1)\n",
        "\n",
        "#Mean Reciprocal Rank (MRR)\n",
        "train_mrr = [np.array(arr).argsort()[::-1] for arr in preds[\"train_preds\"]]\n",
        "validation_mrr = [np.array(arr).argsort()[::-1] for arr in preds['validation_preds']]\n",
        "t_mrr = np.mean([1/(1 + np.where(arr == i)[0].item()) for arr,i in zip(train_mrr,train_labels)])\n",
        "v_mrr = np.mean([1/(1+np.where(arr == i)[0].item()) for arr,i in zip(validation_mrr,validation_labels)])\n",
        "print(\"MRR of train_set: \",t_mrr,\" MRR of validation_set\",v_mrr)\n",
        "\n",
        "train_roc_ovr = roc_auc_score(train_labels,preds['train_preds'],multi_class='ovr',average='weighted')\n",
        "train_roc_ovo = roc_auc_score(train_labels,preds['train_preds'],multi_class='ovo',average='weighted')\n",
        "validation_roc_ovr = roc_auc_score(validation_labels,preds['validation_preds'],multi_class='ovr',average='weighted')\n",
        "validation_roc_ovo = roc_auc_score(validation_labels,preds['validation_preds'],multi_class='ovo',average='weighted')\n",
        "print(\"Area under ROC curve:\\n\\t one versus rest weighted average of AUC:\")\n",
        "print(\"\\t AUC of train_set: \",train_roc_ovr, \"AUC of validation_set: \",validation_roc_ovr)\n",
        "print(\"\\t one versus one weighted average of AUC: \")\n",
        "print(\"\\t AUC of train_set: \",train_roc_ovo, \"AUC of validation_set: \",validation_roc_ovo)"
      ],
      "execution_count": null,
      "outputs": []
    },
    {
      "cell_type": "markdown",
      "metadata": {
        "id": "Z9oxoQ26CVyI"
      },
      "source": [
        "# Output for Test data"
      ]
    },
    {
      "cell_type": "code",
      "metadata": {
        "id": "64eWOJ4vCSW5"
      },
      "source": [
        "#upto 5 tags for each description\n",
        "test_args = [np.array(arr).argsort()[::-1][:5] for arr in preds[\"test_preds\"]]\n",
        "data = pd.read_excel('/content/gdrive/MyDrive/intern_tasks/Text-Classification-using-GNN-main/Training_Data.xlsx')\n",
        "data['First order tag'] = [classes[str(tags[0])] for tags in test_args]\n",
        "data['Second order tag'] = [classes[str(tags[1])] for tags in test_args]\n",
        "data['Third order tag'] = [classes[str(tags[2])] for tags in test_args]\n",
        "data['Fourth order tag'] = [classes[str(tags[3])] for tags in test_args]\n",
        "data['Fifth order tag'] = [classes[str(tags[4])] for tags in test_args]\n",
        "data.to_csv('/content/gdrive/MyDrive/intern_tasks/Text-Classification-using-GNN-main/Output.csv',index=False)"
      ],
      "execution_count": null,
      "outputs": []
    }
  ]
}